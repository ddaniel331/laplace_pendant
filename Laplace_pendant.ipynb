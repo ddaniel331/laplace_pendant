{
 "cells": [
  {
   "cell_type": "markdown",
   "metadata": {},
   "source": [
    "# Solving for droplet's geometry due to body force (e.g., gravity)"
   ]
  },
  {
   "cell_type": "markdown",
   "metadata": {},
   "source": [
    "This code demonstrates how solve for a droplet's geometry using Young-Laplace equation. Instructions on setting up python on your computer can be found in https://swcarpentry.github.io/2013-08-23-harvard/.\n",
    "\n",
    "Libraries required:\n",
    "1. numpy\n",
    "2. matplotlib\n",
    "3. scipy\n",
    "4. seaborn\n",
    "\n",
    "Information about ODE solver in python can be found in \n",
    "https://danielmuellerkomorowska.com/2021/02/16/differential-equations-with-scipy-odeint-or-solve_ivp/"
   ]
  },
  {
   "cell_type": "markdown",
   "metadata": {},
   "source": [
    "## Set up jupyter notebook"
   ]
  },
  {
   "cell_type": "code",
   "execution_count": 30,
   "metadata": {},
   "outputs": [],
   "source": [
    "import numpy as np\n",
    "import matplotlib.pyplot as plt\n",
    "import seaborn as sns\n",
    "\n",
    "from scipy.integrate import odeint\n",
    "from scipy.optimize import newton, fsolve\n",
    "from scipy.integrate import simps\n",
    "from scipy.integrate import solve_ivp"
   ]
  },
  {
   "cell_type": "markdown",
   "metadata": {},
   "source": [
    "# Solving Young-Laplace equation"
   ]
  },
  {
   "cell_type": "markdown",
   "metadata": {},
   "source": [
    "<img src=\"Schematic-Young-Laplace-PD.svg\" style=\"width:300px\">\n",
    "\n",
    "Schematic taken from https://www.dataphysics-instruments.com/knowledge/understanding-interfaces/pendant-drop-method/\n",
    "\n",
    "The droplet geometry is described by the Young-Laplace equation\n",
    "\n",
    "\\begin{align}\n",
    "\\gamma (1/R_{1} + 1/R_{2}) &= \\Delta P_{o} - \\rho g z  \\\\\n",
    "\\end{align}\n",
    "\n",
    "which can be parameterized by the arc length $s$\n",
    "\n",
    "\\begin{align}\n",
    "\\frac{\\text{d}\\phi}{\\text{d}s} &= - \\frac{\\sin \\phi}{x} + \\frac{2}{R} - \\frac{\\rho g z}{\\gamma}  \\\\\n",
    "\\frac{\\text{d}x}{\\text{d}s} &= \\cos \\phi \\\\\n",
    "\\frac{\\text{d}z}{\\text{d}s} &= \\sin \\phi \\\\\n",
    "\\end{align}\n",
    "\n",
    "where $1/R_{1} = 1/R_{2} = 1/R$ at $z=0$, and with the initial boundary conditions, $x$, $\\phi$, $z$ = 0 at $s$=0.\n",
    "\n",
    "A natural way to non-dimensionalize the problem is to divide the variables by the length-scale $V^{1/3}$, i.e., \n",
    "\n",
    "\\begin{align}\n",
    "\\hat{x} &=  x V^{-1/3} \\\\\n",
    "\\hat{s} &=  s V^{-1/3} \\\\\n",
    "\\hat{R} &=  R V^{-1/3} \\\\\n",
    "\\hat{V} &= 1 , \\, \\mathrm{etc}\n",
    "\\end{align}\n",
    "\n",
    "and we get\n",
    "\n",
    "\\begin{align}\n",
    "\\frac{\\text{d}\\phi}{\\text{d}\\hat{s}} &= - \\frac{\\sin \\phi}{\\hat{x}} + \\frac{2}{\\hat{R}} - Bo \\, \\hat{z} \\\\\n",
    "\\frac{\\text{d}\\hat{x}}{\\text{d}\\hat{s}} &= \\cos \\phi \\\\\n",
    "\\frac{\\text{d}\\hat{z}}{\\text{d}\\hat{s}} &= \\sin \\phi \n",
    "\\end{align}\n",
    "\n",
    "where $Bo$ = $\\rho g V^{2/3}/\\gamma$ is the Bond number, for $\\hat{s} \\in (0, S_{f})$. \n",
    "\n",
    "Using the shooting method, we chose to frame the Young-Laplace equation as an initial value problem for, \n",
    "with initial boundary conditions, \n",
    "\n",
    "$\\hat{x}$, $\\phi$, $\\hat{z}$ = 0 at $\\hat{s}$=0\n",
    "\n",
    "and end boundary condition\n",
    "\n",
    "$\\phi(\\hat{S_{f}}) = \\theta$\n",
    "\n",
    "while requiring that\n",
    "\n",
    "$$ \\int_{0}^{\\hat{z}(\\hat{R}, S_{f})} \\pi \\hat{x}^{2}d\\hat{z} = 1$$.\n",
    "\n",
    "This converts the boundary value problem into a root-finding problem of $\\mathbf{\\hat{m} (\\hat{R}, S_{f}) }=0$, i.e.,  \n",
    "$$\\mathbf{\\hat{m}}(\\hat{R}, S_{f}) =\n",
    "\\begin{pmatrix} \\phi(S_{f}) - \\theta \\\\ \n",
    "\\int_{0}^{\\hat{z}(S_f)} \\pi \\hat{u}^{2}d\\hat{z} - 1\\\\\n",
    " \\end{pmatrix} = 0$$.\n",
    "\n",
    "with both $R$ and $S_{f}$ are parameters\n",
    "\n"
   ]
  },
  {
   "cell_type": "markdown",
   "metadata": {},
   "source": [
    "# Implementation\n",
    "\n",
    "Simple example of solving Young-Laplace"
   ]
  },
  {
   "cell_type": "code",
   "execution_count": 31,
   "metadata": {},
   "outputs": [
    {
     "name": "stdout",
     "output_type": "stream",
     "text": [
      "4.661532374646224\n",
      "148.94254996275086\n"
     ]
    },
    {
     "data": {
      "image/png": "[encoded data removed]",
      "text/plain": [
       "<Figure size 432x288 with 1 Axes>"
      ]
     },
     "metadata": {
      "needs_background": "light"
     },
     "output_type": "display_data"
    }
   ],
   "source": [
    "def f(s, v, Bo, R):\n",
    "    \n",
    "    phi, x, z = v\n",
    "    \n",
    "    f_phi = 2/R - Bo*z - np.sin(phi)/x\n",
    "    f_x = np.cos(phi)\n",
    "    f_z = np.sin(phi)\n",
    "    \n",
    "    return f_phi, f_x, f_z\n",
    "\n",
    "def calculate_V(x, z):\n",
    "    V = simps(np.pi*x**2, z)\n",
    "    return V\n",
    "\n",
    "s_start = 0\n",
    "s_end = 3\n",
    "n_points = 5000\n",
    "theta = 5./180*np.pi # contact angle at the top surface\n",
    "\n",
    "Bo = 0.1\n",
    "R = 1\n",
    "sol = solve_ivp(f, (s_start, s_end), (1e-5, 1e-5, 1e-5), \n",
    "                          t_eval = np.linspace(s_start, s_end, n_points), args = [Bo, R])\n",
    "\n",
    "phi, x, z = sol.y\n",
    "\n",
    "plt.plot(x, z, '-b')\n",
    "plt.plot(-x, z, '-b')\n",
    "plt.axis('equal')\n",
    "plt.xlim([-1.1,1.1])\n",
    "\n",
    "print (calculate_V(x, z))\n",
    "print (phi[-1]/np.pi*180)"
   ]
  },
  {
   "cell_type": "markdown",
   "metadata": {},
   "source": [
    "# Solving Young-Laplace given contact angle on solid and body force"
   ]
  },
  {
   "cell_type": "code",
   "execution_count": 32,
   "metadata": {},
   "outputs": [
    {
     "name": "stdout",
     "output_type": "stream",
     "text": [
      "[ 1.43496326e-14 -2.99760217e-15]\n",
      "[18.63391109  2.3430302 ]\n",
      "1.0000000002255192\n",
      "5.0000000000008225\n"
     ]
    },
    {
     "data": {
      "image/png": "[encoded data removed]",
      "text/plain": [
       "<Figure size 432x288 with 1 Axes>"
      ]
     },
     "metadata": {
      "needs_background": "light"
     },
     "output_type": "display_data"
    }
   ],
   "source": [
    "def f(s, v, Bo, R):\n",
    "    \n",
    "    phi, x, z = v\n",
    "    \n",
    "    f_phi = 2/R - Bo*z - np.sin(phi)/x\n",
    "    f_x = np.cos(phi)\n",
    "    f_z = np.sin(phi)\n",
    "    \n",
    "    return f_phi, f_x, f_z\n",
    "\n",
    "def calculate_V(x, z):\n",
    "    V = simps(np.pi*x**2, z)\n",
    "    return V\n",
    "\n",
    "def calculate_Laplace(R, s_end, Bo, n_points=5000): \n",
    "    sol = solve_ivp(f, (0, s_end), (1e-5, 1e-5, 1e-5), \n",
    "                          t_eval = np.linspace(0, s_end, n_points), args = [Bo, R])\n",
    "    \n",
    "    phi, x, z = sol.y\n",
    "    return [phi, x, z]\n",
    "\n",
    "def m_res(u, Bo, theta, n_points=5000):\n",
    "    \n",
    "    R = u[0]    \n",
    "    s_end = u[1]\n",
    "    \n",
    "    phi, x, z = calculate_Laplace(R, s_end, Bo, n_points)\n",
    "    return np.array([phi[-1]-theta, calculate_V(x, z)-1])\n",
    "\n",
    "theta = 5./180*np.pi # contact angle at the top surface\n",
    "Bo = 0.5\n",
    "\n",
    "# guess values (non-dimensionalized)\n",
    "R_guess = 0.6                       \n",
    "S_f_guess = np.pi/2\n",
    "\n",
    "u_guess = np.array([R_guess,S_f_guess])\n",
    "\n",
    "# root-finding solver, look for solution m=0\n",
    "u_opt = fsolve(m_res, u_guess, args=(Bo, theta, 5000))\n",
    "print (m_res(u_opt, Bo, theta))\n",
    "print (u_opt)\n",
    "\n",
    "R_opt, s_end_opt = u_opt\n",
    "phi, x, z = calculate_Laplace(R_opt, s_end_opt, Bo, 1000)\n",
    "\n",
    "print (calculate_V(x, z))\n",
    "print (phi[-1]/np.pi*180)\n",
    "\n",
    "fig, ax = plt.subplots()\n",
    "\n",
    "title = \"Bo = {}\".format(Bo)\n",
    "ax.plot(x, -z+z[-1], color='b')\n",
    "ax.plot(-x, -z+z[-1], color='b')\n",
    "ax.plot([-1, 1], [0,0], '-k')\n",
    "ax.set_xlim([-0.8, 0.8])\n",
    "ax.set_xticks([-0.5, 0.5])\n",
    "ax.set_ylim([-0.05, 1.5])\n",
    "ax.set_title(title)\n",
    "\n",
    "ax.set_aspect('equal')\n"
   ]
  },
  {
   "cell_type": "markdown",
   "metadata": {},
   "source": [
    "# Varying the Bo"
   ]
  },
  {
   "cell_type": "code",
   "execution_count": 33,
   "metadata": {},
   "outputs": [
    {
     "name": "stderr",
     "output_type": "stream",
     "text": [
      "/opt/anaconda3/lib/python3.8/site-packages/scipy/optimize/minpack.py:175: RuntimeWarning: The iteration is not making good progress, as measured by the \n",
      "  improvement from the last ten iterations.\n",
      "  warnings.warn(msg, RuntimeWarning)\n",
      "/opt/anaconda3/lib/python3.8/site-packages/scipy/optimize/minpack.py:175: RuntimeWarning: The iteration is not making good progress, as measured by the \n",
      "  improvement from the last ten iterations.\n",
      "  warnings.warn(msg, RuntimeWarning)\n",
      "/opt/anaconda3/lib/python3.8/site-packages/scipy/optimize/minpack.py:175: RuntimeWarning: The iteration is not making good progress, as measured by the \n",
      "  improvement from the last ten iterations.\n",
      "  warnings.warn(msg, RuntimeWarning)\n",
      "/opt/anaconda3/lib/python3.8/site-packages/scipy/optimize/minpack.py:175: RuntimeWarning: The iteration is not making good progress, as measured by the \n",
      "  improvement from the last ten iterations.\n",
      "  warnings.warn(msg, RuntimeWarning)\n",
      "/opt/anaconda3/lib/python3.8/site-packages/scipy/optimize/minpack.py:175: RuntimeWarning: The iteration is not making good progress, as measured by the \n",
      "  improvement from the last five Jacobian evaluations.\n",
      "  warnings.warn(msg, RuntimeWarning)\n",
      "/opt/anaconda3/lib/python3.8/site-packages/scipy/optimize/minpack.py:175: RuntimeWarning: The iteration is not making good progress, as measured by the \n",
      "  improvement from the last ten iterations.\n",
      "  warnings.warn(msg, RuntimeWarning)\n",
      "/opt/anaconda3/lib/python3.8/site-packages/scipy/optimize/minpack.py:175: RuntimeWarning: The iteration is not making good progress, as measured by the \n",
      "  improvement from the last five Jacobian evaluations.\n",
      "  warnings.warn(msg, RuntimeWarning)\n",
      "/opt/anaconda3/lib/python3.8/site-packages/scipy/optimize/minpack.py:175: RuntimeWarning: The iteration is not making good progress, as measured by the \n",
      "  improvement from the last five Jacobian evaluations.\n",
      "  warnings.warn(msg, RuntimeWarning)\n",
      "/opt/anaconda3/lib/python3.8/site-packages/scipy/optimize/minpack.py:175: RuntimeWarning: The iteration is not making good progress, as measured by the \n",
      "  improvement from the last ten iterations.\n",
      "  warnings.warn(msg, RuntimeWarning)\n",
      "/opt/anaconda3/lib/python3.8/site-packages/scipy/optimize/minpack.py:175: RuntimeWarning: The iteration is not making good progress, as measured by the \n",
      "  improvement from the last ten iterations.\n",
      "  warnings.warn(msg, RuntimeWarning)\n",
      "/opt/anaconda3/lib/python3.8/site-packages/scipy/optimize/minpack.py:175: RuntimeWarning: The iteration is not making good progress, as measured by the \n",
      "  improvement from the last ten iterations.\n",
      "  warnings.warn(msg, RuntimeWarning)\n",
      "/opt/anaconda3/lib/python3.8/site-packages/scipy/optimize/minpack.py:175: RuntimeWarning: The iteration is not making good progress, as measured by the \n",
      "  improvement from the last ten iterations.\n",
      "  warnings.warn(msg, RuntimeWarning)\n",
      "/opt/anaconda3/lib/python3.8/site-packages/scipy/optimize/minpack.py:175: RuntimeWarning: The iteration is not making good progress, as measured by the \n",
      "  improvement from the last ten iterations.\n",
      "  warnings.warn(msg, RuntimeWarning)\n",
      "/opt/anaconda3/lib/python3.8/site-packages/scipy/optimize/minpack.py:175: RuntimeWarning: The iteration is not making good progress, as measured by the \n",
      "  improvement from the last five Jacobian evaluations.\n",
      "  warnings.warn(msg, RuntimeWarning)\n",
      "/opt/anaconda3/lib/python3.8/site-packages/scipy/optimize/minpack.py:175: RuntimeWarning: The iteration is not making good progress, as measured by the \n",
      "  improvement from the last ten iterations.\n",
      "  warnings.warn(msg, RuntimeWarning)\n",
      "/opt/anaconda3/lib/python3.8/site-packages/scipy/optimize/minpack.py:175: RuntimeWarning: The iteration is not making good progress, as measured by the \n",
      "  improvement from the last ten iterations.\n",
      "  warnings.warn(msg, RuntimeWarning)\n",
      "/opt/anaconda3/lib/python3.8/site-packages/scipy/optimize/minpack.py:175: RuntimeWarning: The iteration is not making good progress, as measured by the \n",
      "  improvement from the last ten iterations.\n",
      "  warnings.warn(msg, RuntimeWarning)\n",
      "/opt/anaconda3/lib/python3.8/site-packages/scipy/optimize/minpack.py:175: RuntimeWarning: The iteration is not making good progress, as measured by the \n",
      "  improvement from the last ten iterations.\n",
      "  warnings.warn(msg, RuntimeWarning)\n",
      "/opt/anaconda3/lib/python3.8/site-packages/scipy/optimize/minpack.py:175: RuntimeWarning: The iteration is not making good progress, as measured by the \n",
      "  improvement from the last ten iterations.\n",
      "  warnings.warn(msg, RuntimeWarning)\n",
      "/opt/anaconda3/lib/python3.8/site-packages/scipy/optimize/minpack.py:175: RuntimeWarning: The iteration is not making good progress, as measured by the \n",
      "  improvement from the last ten iterations.\n",
      "  warnings.warn(msg, RuntimeWarning)\n",
      "/opt/anaconda3/lib/python3.8/site-packages/scipy/optimize/minpack.py:175: RuntimeWarning: The iteration is not making good progress, as measured by the \n",
      "  improvement from the last ten iterations.\n",
      "  warnings.warn(msg, RuntimeWarning)\n"
     ]
    }
   ],
   "source": [
    "Bo_arr_1 = np.arange(3, 7, 0.05)\n",
    "n_files = len(Bo_arr_1)\n",
    "theta = 30./180*np.pi # contact angle at the top surface\n",
    "\n",
    "err_arr_1 = np.zeros(n_files)     # Error in simulation\n",
    "r_arr_1 = np.zeros(n_files)       # contact size\n",
    "theta_arr_1 = np.zeros(n_files)   # contact angle\n",
    "h_arr_1 = np.zeros(n_files)       # droplet height\n",
    "F_arr_1 = np.zeros(n_files)       # Net force acting on the droplet\n",
    "\n",
    "for i in np.arange(n_files):\n",
    "    \n",
    "    if i==0:\n",
    "        R_guess = 0.6\n",
    "        S_f_guess = np.pi/2\n",
    "    \n",
    "    Bo = Bo_arr_1[i]\n",
    "    \n",
    "    \n",
    "    u_guess = np.array([R_guess,S_f_guess])\n",
    "\n",
    "    # root-finding solver, look for solution m=0\n",
    "    u_opt = fsolve(m_res, u_guess, args=(Bo, theta, 5000))\n",
    "    \n",
    "    R_opt, s_end_opt = u_opt\n",
    "    phi, x, z = calculate_Laplace(R_opt, s_end_opt, Bo, 1000)\n",
    "    \n",
    "    file_name = \"Simulation_10/image{:03d}.png\".format(i)\n",
    "    \n",
    "    fig, ax = plt.subplots()\n",
    "\n",
    "    title = \"Bo = {:.2f}\".format(Bo)\n",
    "    ax.plot(x, -z+z[-1], color='b')\n",
    "    ax.plot(-x, -z+z[-1], color='b')\n",
    "    ax.plot([-2, 2], [0,0], '-k')\n",
    "    ax.set_xlim([-2, 2])\n",
    "    ax.set_xticks([-0.5, 0.5])\n",
    "    ax.set_ylim([-0.05, 1.5])\n",
    "    ax.set_title(title)\n",
    "\n",
    "    ax.set_aspect('equal')\n",
    "    plt.xticks([-2, -1, 0, 1, 2])\n",
    "    plt.yticks([0, 0.5, 1, 1.5])\n",
    "    \n",
    "    fig.savefig(file_name)\n",
    "    plt.close('all')\n",
    "    \n",
    "    # Store simulation data\n",
    "    r_arr_1[i] = x[-1]\n",
    "    theta_arr_1[i] = phi[-1]/np.pi*180\n",
    "    err_arr_1[i] = np.mean(np.abs(m_res(u_opt, Bo, theta)))\n",
    "    h_arr_1[i] = z[-1]\n",
    "    \n",
    "    \n",
    "    # Force acting on the droplet\n",
    "    F_capillary = 2*np.pi*x[-1]*np.sin(theta)  # capillary force\n",
    "    F_laplace = np.pi*x[-1]**2 * (2/R_opt - Bo*z[-1])   # Laplace pressure term \n",
    "    W = Bo\n",
    "    F_net = F_laplace + W - F_capillary\n",
    "    F_arr_1[i] = F_net\n",
    "    \n",
    "    R_guess = u_opt[0]\n",
    "    S_f_guess = u_opt[1]\n",
    "    \n",
    "    "
   ]
  },
  {
   "cell_type": "code",
   "execution_count": 34,
   "metadata": {},
   "outputs": [
    {
     "name": "stderr",
     "output_type": "stream",
     "text": [
      "/opt/anaconda3/lib/python3.8/site-packages/scipy/optimize/minpack.py:175: RuntimeWarning: The iteration is not making good progress, as measured by the \n",
      "  improvement from the last ten iterations.\n",
      "  warnings.warn(msg, RuntimeWarning)\n",
      "/opt/anaconda3/lib/python3.8/site-packages/scipy/optimize/minpack.py:175: RuntimeWarning: The iteration is not making good progress, as measured by the \n",
      "  improvement from the last five Jacobian evaluations.\n",
      "  warnings.warn(msg, RuntimeWarning)\n",
      "/opt/anaconda3/lib/python3.8/site-packages/scipy/optimize/minpack.py:175: RuntimeWarning: The iteration is not making good progress, as measured by the \n",
      "  improvement from the last five Jacobian evaluations.\n",
      "  warnings.warn(msg, RuntimeWarning)\n",
      "/opt/anaconda3/lib/python3.8/site-packages/scipy/optimize/minpack.py:175: RuntimeWarning: The iteration is not making good progress, as measured by the \n",
      "  improvement from the last ten iterations.\n",
      "  warnings.warn(msg, RuntimeWarning)\n",
      "/opt/anaconda3/lib/python3.8/site-packages/scipy/optimize/minpack.py:175: RuntimeWarning: The iteration is not making good progress, as measured by the \n",
      "  improvement from the last five Jacobian evaluations.\n",
      "  warnings.warn(msg, RuntimeWarning)\n",
      "/opt/anaconda3/lib/python3.8/site-packages/scipy/optimize/minpack.py:175: RuntimeWarning: The iteration is not making good progress, as measured by the \n",
      "  improvement from the last ten iterations.\n",
      "  warnings.warn(msg, RuntimeWarning)\n",
      "/opt/anaconda3/lib/python3.8/site-packages/scipy/optimize/minpack.py:175: RuntimeWarning: The iteration is not making good progress, as measured by the \n",
      "  improvement from the last five Jacobian evaluations.\n",
      "  warnings.warn(msg, RuntimeWarning)\n",
      "/opt/anaconda3/lib/python3.8/site-packages/scipy/optimize/minpack.py:175: RuntimeWarning: The iteration is not making good progress, as measured by the \n",
      "  improvement from the last ten iterations.\n",
      "  warnings.warn(msg, RuntimeWarning)\n",
      "/opt/anaconda3/lib/python3.8/site-packages/scipy/optimize/minpack.py:175: RuntimeWarning: The iteration is not making good progress, as measured by the \n",
      "  improvement from the last five Jacobian evaluations.\n",
      "  warnings.warn(msg, RuntimeWarning)\n",
      "/opt/anaconda3/lib/python3.8/site-packages/scipy/optimize/minpack.py:175: RuntimeWarning: The iteration is not making good progress, as measured by the \n",
      "  improvement from the last five Jacobian evaluations.\n",
      "  warnings.warn(msg, RuntimeWarning)\n",
      "/opt/anaconda3/lib/python3.8/site-packages/scipy/optimize/minpack.py:175: RuntimeWarning: The iteration is not making good progress, as measured by the \n",
      "  improvement from the last ten iterations.\n",
      "  warnings.warn(msg, RuntimeWarning)\n",
      "/opt/anaconda3/lib/python3.8/site-packages/scipy/optimize/minpack.py:175: RuntimeWarning: The iteration is not making good progress, as measured by the \n",
      "  improvement from the last ten iterations.\n",
      "  warnings.warn(msg, RuntimeWarning)\n",
      "/opt/anaconda3/lib/python3.8/site-packages/scipy/optimize/minpack.py:175: RuntimeWarning: The iteration is not making good progress, as measured by the \n",
      "  improvement from the last five Jacobian evaluations.\n",
      "  warnings.warn(msg, RuntimeWarning)\n",
      "/opt/anaconda3/lib/python3.8/site-packages/scipy/optimize/minpack.py:175: RuntimeWarning: The iteration is not making good progress, as measured by the \n",
      "  improvement from the last ten iterations.\n",
      "  warnings.warn(msg, RuntimeWarning)\n",
      "/opt/anaconda3/lib/python3.8/site-packages/scipy/optimize/minpack.py:175: RuntimeWarning: The iteration is not making good progress, as measured by the \n",
      "  improvement from the last ten iterations.\n",
      "  warnings.warn(msg, RuntimeWarning)\n",
      "/opt/anaconda3/lib/python3.8/site-packages/scipy/optimize/minpack.py:175: RuntimeWarning: The iteration is not making good progress, as measured by the \n",
      "  improvement from the last five Jacobian evaluations.\n",
      "  warnings.warn(msg, RuntimeWarning)\n",
      "/opt/anaconda3/lib/python3.8/site-packages/scipy/optimize/minpack.py:175: RuntimeWarning: The iteration is not making good progress, as measured by the \n",
      "  improvement from the last ten iterations.\n",
      "  warnings.warn(msg, RuntimeWarning)\n",
      "/opt/anaconda3/lib/python3.8/site-packages/scipy/optimize/minpack.py:175: RuntimeWarning: The iteration is not making good progress, as measured by the \n",
      "  improvement from the last ten iterations.\n",
      "  warnings.warn(msg, RuntimeWarning)\n",
      "/opt/anaconda3/lib/python3.8/site-packages/scipy/optimize/minpack.py:175: RuntimeWarning: The iteration is not making good progress, as measured by the \n",
      "  improvement from the last five Jacobian evaluations.\n",
      "  warnings.warn(msg, RuntimeWarning)\n",
      "/opt/anaconda3/lib/python3.8/site-packages/scipy/optimize/minpack.py:175: RuntimeWarning: The iteration is not making good progress, as measured by the \n",
      "  improvement from the last ten iterations.\n",
      "  warnings.warn(msg, RuntimeWarning)\n",
      "/opt/anaconda3/lib/python3.8/site-packages/scipy/optimize/minpack.py:175: RuntimeWarning: The iteration is not making good progress, as measured by the \n",
      "  improvement from the last five Jacobian evaluations.\n",
      "  warnings.warn(msg, RuntimeWarning)\n",
      "/opt/anaconda3/lib/python3.8/site-packages/scipy/optimize/minpack.py:175: RuntimeWarning: The iteration is not making good progress, as measured by the \n",
      "  improvement from the last ten iterations.\n",
      "  warnings.warn(msg, RuntimeWarning)\n",
      "/opt/anaconda3/lib/python3.8/site-packages/scipy/optimize/minpack.py:175: RuntimeWarning: The iteration is not making good progress, as measured by the \n",
      "  improvement from the last ten iterations.\n",
      "  warnings.warn(msg, RuntimeWarning)\n",
      "/opt/anaconda3/lib/python3.8/site-packages/scipy/optimize/minpack.py:175: RuntimeWarning: The iteration is not making good progress, as measured by the \n",
      "  improvement from the last five Jacobian evaluations.\n",
      "  warnings.warn(msg, RuntimeWarning)\n",
      "/opt/anaconda3/lib/python3.8/site-packages/scipy/optimize/minpack.py:175: RuntimeWarning: The iteration is not making good progress, as measured by the \n",
      "  improvement from the last ten iterations.\n",
      "  warnings.warn(msg, RuntimeWarning)\n"
     ]
    }
   ],
   "source": [
    "Bo_arr_2 = np.arange(0, 2, 0.05)\n",
    "n_files = len(Bo_arr_2)\n",
    "theta = 130./180*np.pi # contact angle at the top surface\n",
    "\n",
    "err_arr_2 = np.zeros(n_files)     # Error in simulation\n",
    "r_arr_2 = np.zeros(n_files)       # contact size\n",
    "theta_arr_2 = np.zeros(n_files)   # contact angle\n",
    "h_arr_2 = np.zeros(n_files)       # droplet height\n",
    "F_arr_2 = np.zeros(n_files)       # Net force acting on the droplet\n",
    "\n",
    "for i in np.arange(n_files):\n",
    "    \n",
    "    if i==0:\n",
    "        R_guess = 0.6\n",
    "        S_f_guess = np.pi/2\n",
    "    \n",
    "    Bo = Bo_arr_2[i]\n",
    "    \n",
    "    \n",
    "    u_guess = np.array([R_guess,S_f_guess])\n",
    "\n",
    "    # root-finding solver, look for solution m=0\n",
    "    u_opt = fsolve(m_res, u_guess, args=(Bo, theta, 5000))\n",
    "    \n",
    "    R_opt, s_end_opt = u_opt\n",
    "    phi, x, z = calculate_Laplace(R_opt, s_end_opt, Bo, 1000)\n",
    "    \n",
    "    file_name = \"Simulation_130/image{:03d}.png\".format(i)\n",
    "    \n",
    "    fig, ax = plt.subplots()\n",
    "\n",
    "    title = \"Bo = {:.2f}\".format(Bo)\n",
    "    ax.plot(x, -z+z[-1], color='b')\n",
    "    ax.plot(-x, -z+z[-1], color='b')\n",
    "    ax.plot([-2, 2], [0,0], '-k')\n",
    "    ax.set_xlim([-2, 2])\n",
    "    ax.set_xticks([-0.5, 0.5])\n",
    "    ax.set_ylim([-0.05, 1.5])\n",
    "    ax.set_title(title)\n",
    "\n",
    "    ax.set_aspect('equal')\n",
    "    plt.xticks([-2, -1, 0, 1, 2])\n",
    "    plt.yticks([0, 0.5, 1, 1.5])\n",
    "    \n",
    "    fig.savefig(file_name)\n",
    "    plt.close('all')\n",
    "    \n",
    "    # Store simulation data\n",
    "    r_arr_2[i] = x[-1]\n",
    "    theta_arr_2[i] = phi[-1]/np.pi*180\n",
    "    err_arr_2[i] = np.mean(np.abs(m_res(u_opt, Bo, theta)))\n",
    "    h_arr_2[i] = z[-1]\n",
    "    \n",
    "    \n",
    "    # Force acting on the droplet\n",
    "    F_capillary = 2*np.pi*x[-1]*np.sin(theta)  # capillary force\n",
    "    F_laplace = np.pi*x[-1]**2 * (2/R_opt - Bo*z[-1])   # Laplace pressure term \n",
    "    W = Bo\n",
    "    F_net = F_laplace + W - F_capillary\n",
    "    F_arr_2[i] = F_net\n",
    "    \n",
    "    R_guess = u_opt[0]\n",
    "    S_f_guess = u_opt[1]\n"
   ]
  },
  {
   "cell_type": "markdown",
   "metadata": {},
   "source": [
    "# Simulation results"
   ]
  },
  {
   "cell_type": "code",
   "execution_count": 54,
   "metadata": {},
   "outputs": [
    {
     "data": {
      "image/png": "[encoded data removed]",
      "text/plain": [
       "<Figure size 116.424x90.72 with 2 Axes>"
      ]
     },
     "metadata": {
      "needs_background": "light"
     },
     "output_type": "display_data"
    }
   ],
   "source": [
    "def plot_data(fig, ax):\n",
    "    ls_1 = 1.0\n",
    "    ls_2 = 1.0\n",
    "    ls_3 = 0.8\n",
    "\n",
    "    ms = 6 # marker size\n",
    "    fs_1 = 6\n",
    "    fs_2 = 6\n",
    "    \n",
    "    ax.tick_params(axis='x', labelsize=fs_1)\n",
    "    ax.tick_params(axis='y', labelsize=fs_1)\n",
    "\n",
    "    scale = 0.7\n",
    "    fig.set_size_inches(scale*2.1*1.1,scale*1.8)\n",
    "\n",
    "    ax.xaxis.set_tick_params(length=3)\n",
    "    ax.yaxis.set_tick_params(length=3)\n",
    "    \n",
    "    for axis in ['top','bottom','left','right']:\n",
    "      ax.spines[axis].set_linewidth(1.1)\n",
    "\n",
    "\n",
    "fig, ax = plt.subplots()\n",
    "ax_sec = ax.twinx()\n",
    "\n",
    "ax.plot(Bo_arr_1, err_arr_1, '-b')\n",
    "ax_sec.plot(Bo_arr_1, theta_arr_1, '--b')\n",
    "\n",
    "# ax.set_xlabel('F')\n",
    "# ax.set_ylabel('Numerical error')\n",
    "\n",
    "ax.set_xlim([3.9, 7.1])\n",
    "plot_data(fig, ax)\n",
    "plot_data(fig, ax_sec)\n",
    "\n",
    "fig.savefig(\"theta_30.pdf\")\n",
    "# plt.xlim([7, 7.2])"
   ]
  },
  {
   "cell_type": "code",
   "execution_count": 55,
   "metadata": {},
   "outputs": [
    {
     "data": {
      "image/png": "[encoded data removed]",
      "text/plain": [
       "<Figure size 116.424x90.72 with 2 Axes>"
      ]
     },
     "metadata": {
      "needs_background": "light"
     },
     "output_type": "display_data"
    }
   ],
   "source": [
    "fig, ax = plt.subplots()\n",
    "ax_sec = ax.twinx()\n",
    "\n",
    "ax.plot(Bo_arr_2, err_arr_2, '-r')\n",
    "ax_sec.plot(Bo_arr_2, theta_arr_2, '--r')\n",
    "ax.set_xlim([-0.01, 2.1])\n",
    "# ax.set_xlabel('F')\n",
    "# ax.set_ylabel('Numerical error')\n",
    "\n",
    "plot_data(fig, ax)\n",
    "plot_data(fig, ax_sec)\n",
    "fig.savefig(\"theta_130.pdf\")\n"
   ]
  },
  {
   "cell_type": "markdown",
   "metadata": {},
   "source": [
    "Numerical error increases after $Bo$ = 1.4, i.e., there is no solution to Laplace equation beyond critical $Bo$. "
   ]
  },
  {
   "cell_type": "code",
   "execution_count": 6,
   "metadata": {},
   "outputs": [
    {
     "data": {
      "text/plain": [
       "Text(0, 0.5, 'Contact angle')"
      ]
     },
     "execution_count": 6,
     "metadata": {},
     "output_type": "execute_result"
    },
    {
     "data": {
      "image/png": "[encoded data removed]",
      "text/plain": [
       "<Figure size 432x288 with 1 Axes>"
      ]
     },
     "metadata": {
      "needs_background": "light"
     },
     "output_type": "display_data"
    }
   ],
   "source": [
    "plt.plot(Bo_arr, theta_arr)\n",
    "plt.xlabel('Bo')\n",
    "plt.ylabel('Contact angle')"
   ]
  },
  {
   "cell_type": "markdown",
   "metadata": {},
   "source": [
    "Contact angle deviates from the target $\\theta$ = 110$^{\\circ}$ beyond critical $Bo$"
   ]
  },
  {
   "cell_type": "code",
   "execution_count": 7,
   "metadata": {},
   "outputs": [
    {
     "data": {
      "text/plain": [
       "(1.1, 1.2)"
      ]
     },
     "execution_count": 7,
     "metadata": {},
     "output_type": "execute_result"
    },
    {
     "data": {
      "image/png": "[encoded data removed]",
      "text/plain": [
       "<Figure size 432x288 with 1 Axes>"
      ]
     },
     "metadata": {
      "needs_background": "light"
     },
     "output_type": "display_data"
    }
   ],
   "source": [
    "plt.plot(Bo_arr, r_arr)\n",
    "plt.xlabel('Bo')\n",
    "plt.ylabel('Contact radius')\n",
    "plt.xlim([7, 7.2])\n",
    "plt.ylim([1.1, 1.2])"
   ]
  },
  {
   "cell_type": "markdown",
   "metadata": {},
   "source": [
    "Contact size increases beyond critical $Bo$, which is unphysical"
   ]
  },
  {
   "cell_type": "code",
   "execution_count": 8,
   "metadata": {},
   "outputs": [
    {
     "data": {
      "text/plain": [
       "Text(0, 0.5, 'Force')"
      ]
     },
     "execution_count": 8,
     "metadata": {},
     "output_type": "execute_result"
    },
    {
     "data": {
      "image/png": "[encoded data removed]",
      "text/plain": [
       "<Figure size 432x288 with 1 Axes>"
      ]
     },
     "metadata": {
      "needs_background": "light"
     },
     "output_type": "display_data"
    }
   ],
   "source": [
    "plt.plot(Bo_arr, F_arr)\n",
    "plt.xlabel('Bo')\n",
    "plt.ylabel('Force')"
   ]
  },
  {
   "cell_type": "markdown",
   "metadata": {},
   "source": [
    "Net force is no longer zero beyond critical $Bo$"
   ]
  },
  {
   "cell_type": "markdown",
   "metadata": {},
   "source": [
    "# Analyze forces at critical Bo"
   ]
  },
  {
   "cell_type": "code",
   "execution_count": 9,
   "metadata": {},
   "outputs": [
    {
     "name": "stdout",
     "output_type": "stream",
     "text": [
      "1.098570208429932 0.4682784312262022 0.8153500989422428\n"
     ]
    },
    {
     "name": "stderr",
     "output_type": "stream",
     "text": [
      "/opt/anaconda3/lib/python3.8/site-packages/scipy/optimize/minpack.py:175: RuntimeWarning: The iteration is not making good progress, as measured by the \n",
      "  improvement from the last ten iterations.\n",
      "  warnings.warn(msg, RuntimeWarning)\n"
     ]
    },
    {
     "data": {
      "image/png": "[encoded data removed]",
      "text/plain": [
       "<Figure size 432x288 with 1 Axes>"
      ]
     },
     "metadata": {
      "needs_background": "light"
     },
     "output_type": "display_data"
    }
   ],
   "source": [
    "ind = np.argmin(r_arr)\n",
    "Bo_crit = Bo_arr[ind]\n",
    "Bo_crit = 7.1\n",
    "\n",
    "u_guess = np.array([0.47,1])\n",
    "\n",
    "# root-finding solver, look for solution m=0\n",
    "u_opt = fsolve(m_res, u_guess, args=(Bo_crit, theta, 5000))\n",
    "    \n",
    "R_opt, s_end_opt = u_opt\n",
    "phi, x, z = calculate_Laplace(R_opt, s_end_opt, Bo_crit, 1000)\n",
    "    \n",
    "    \n",
    "fig, ax = plt.subplots()\n",
    "\n",
    "title = \"Bo = {:.2f}\".format(Bo_crit)\n",
    "ax.plot(x, -z+z[-1], color='b')\n",
    "ax.plot(-x, -z+z[-1], color='b')\n",
    "ax.plot([-2, 2], [0,0], '-k')\n",
    "# ax.set_xlim([-0.8, 0.8])\n",
    "ax.set_ylim([-0.05, 2])\n",
    "\n",
    "# ax.set_xticks([])\n",
    "# ax.set_yticks([])\n",
    "ax.set_title(title)\n",
    "\n",
    "ax.set_aspect('equal')\n",
    "\n",
    "r_crit = x[-1]\n",
    "R_crit = R_opt\n",
    "h_crit = z[-1]\n",
    "print (r_crit, R_crit, h_crit)\n"
   ]
  },
  {
   "cell_type": "code",
   "execution_count": 10,
   "metadata": {},
   "outputs": [
    {
     "name": "stdout",
     "output_type": "stream",
     "text": [
      "1.1986100527389265 -5.755508301313756 7.1\n",
      "0.14588164594731712\n"
     ]
    }
   ],
   "source": [
    "F_capillary = 2*np.pi*r_crit*np.sin(theta)  # capillary force\n",
    "F_laplace = np.pi*r_crit**2 * (2/R_crit - Bo_crit*h_crit)   # Laplace pressure term \n",
    "W = Bo_crit\n",
    "\n",
    "print (F_capillary, F_laplace, W)\n",
    "print (F_laplace + W - F_capillary)"
   ]
  },
  {
   "cell_type": "code",
   "execution_count": 11,
   "metadata": {},
   "outputs": [
    {
     "data": {
      "text/plain": [
       "[<matplotlib.lines.Line2D at 0x7f8df057df10>]"
      ]
     },
     "execution_count": 11,
     "metadata": {},
     "output_type": "execute_result"
    },
    {
     "data": {
      "image/png": "[encoded data removed]",
      "text/plain": [
       "<Figure size 432x288 with 1 Axes>"
      ]
     },
     "metadata": {
      "needs_background": "light"
     },
     "output_type": "display_data"
    }
   ],
   "source": [
    "x = np.linspace(0, 10, 100)\n",
    "\n",
    "y = (np.sqrt(x) - (3/(2*np.pi))**(1/3))*np.pi*(3/(2*np.pi))**(2/3)\n",
    "\n",
    "plt.plot(x, x)\n",
    "plt.plot(x, y)"
   ]
  },
  {
   "cell_type": "code",
   "execution_count": null,
   "metadata": {},
   "outputs": [],
   "source": []
  }
 ],
 "metadata": {
  "kernelspec": {
   "display_name": "Python 3",
   "language": "python",
   "name": "python3"
  },
  "language_info": {
   "codemirror_mode": {
    "name": "ipython",
    "version": 3
   },
   "file_extension": ".py",
   "mimetype": "text/x-python",
   "name": "python",
   "nbconvert_exporter": "python",
   "pygments_lexer": "ipython3",
   "version": "3.8.8"
  }
 },
 "nbformat": 4,
 "nbformat_minor": 4
}
